{
 "cells": [
  {
   "cell_type": "markdown",
   "id": "f1bbc0ba",
   "metadata": {},
   "source": [
    "# Statictics Handbook"
   ]
  },
  {
   "cell_type": "markdown",
   "id": "58409ab3",
   "metadata": {},
   "source": [
    "### Mean\n",
    "The **mean**, also known as the average, is a central value of a finite set of numbers. \n",
    "\n"
   ]
  },
  {
   "cell_type": "markdown",
   "id": "41d7ae3c",
   "metadata": {},
   "source": [
    "#### computing mean"
   ]
  },
  {
   "cell_type": "code",
   "execution_count": 13,
   "id": "209e5cde",
   "metadata": {},
   "outputs": [
    {
     "name": "stdout",
     "output_type": "stream",
     "text": [
      "The mean is 3.75\n"
     ]
    }
   ],
   "source": [
    "import numpy as np\n",
    "import math\n",
    "x = np.array([1,3,5,6])\n",
    "mean_x = np.mean(x)\n",
    "print(\"The mean is %s\" %mean_x)\n",
    "\n",
    "# in case the data contains NaN values\n",
    "x_nan = np.array([1,3,5,6, math.nan])\n",
    "mean_x_nan = np.nanmean(x_nan)"
   ]
  },
  {
   "cell_type": "markdown",
   "id": "905d870d",
   "metadata": {},
   "source": [
    "### Variance\n",
    "The **variance** measures how far the data points are spread out from the average value. It's equal to the sum of thesquares of the differences between the data values and the average (the mean)"
   ]
  },
  {
   "cell_type": "code",
   "execution_count": null,
   "id": "dc31bb52",
   "metadata": {},
   "outputs": [],
   "source": []
  }
 ],
 "metadata": {
  "kernelspec": {
   "display_name": "Python 3 (ipykernel)",
   "language": "python",
   "name": "python3"
  },
  "language_info": {
   "codemirror_mode": {
    "name": "ipython",
    "version": 3
   },
   "file_extension": ".py",
   "mimetype": "text/x-python",
   "name": "python",
   "nbconvert_exporter": "python",
   "pygments_lexer": "ipython3",
   "version": "3.9.13"
  }
 },
 "nbformat": 4,
 "nbformat_minor": 5
}
