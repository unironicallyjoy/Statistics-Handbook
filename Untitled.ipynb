{
 "cells": [
  {
   "cell_type": "markdown",
   "id": "4ddfb384",
   "metadata": {},
   "source": [
    "# Statictics Handbook"
   ]
  },
  {
   "cell_type": "markdown",
   "id": "87d3cde3",
   "metadata": {},
   "source": [
    "### Mean\n",
    "The **mean**, also known as the average, is a central value of a finite set of numbers. \n",
    "\n"
   ]
  },
  {
   "cell_type": "markdown",
   "id": "c0473252",
   "metadata": {},
   "source": [
    "#### computing mean"
   ]
  },
  {
   "cell_type": "code",
   "execution_count": 13,
   "id": "7d130cb3",
   "metadata": {},
   "outputs": [
    {
     "name": "stdout",
     "output_type": "stream",
     "text": [
      "The mean is 3.75\n"
     ]
    }
   ],
   "source": [
    "import numpy as np\n",
    "import math\n",
    "x = np.array([1,3,5,6])\n",
    "mean_x = np.mean(x)\n",
    "print(\"The mean is %s\" %mean_x)\n",
    "\n",
    "# in case the data contains NaN values\n",
    "x_nan = np.array([1,3,5,6, math.nan])\n",
    "mean_x_nan = np.nanmean(x_nan)"
   ]
  },
  {
   "cell_type": "markdown",
   "id": "af2b1f72",
   "metadata": {},
   "source": [
    "### Variance\n",
    "The **variance** measures how far the data points are spread out from the average value. It's equal to the sum of thesquares of the differences between the data values and the average (the mean)"
   ]
  },
  {
   "cell_type": "code",
   "execution_count": null,
   "id": "530bc6cf",
   "metadata": {},
   "outputs": [],
   "source": []
  }
 ],
 "metadata": {
  "kernelspec": {
   "display_name": "Python 3 (ipykernel)",
   "language": "python",
   "name": "python3"
  },
  "language_info": {
   "codemirror_mode": {
    "name": "ipython",
    "version": 3
   },
   "file_extension": ".py",
   "mimetype": "text/x-python",
   "name": "python",
   "nbconvert_exporter": "python",
   "pygments_lexer": "ipython3",
   "version": "3.9.13"
  }
 },
 "nbformat": 4,
 "nbformat_minor": 5
}
