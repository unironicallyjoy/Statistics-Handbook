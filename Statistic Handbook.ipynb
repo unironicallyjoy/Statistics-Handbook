{
 "cells": [
  {
   "cell_type": "markdown",
   "id": "4ddfb384",
   "metadata": {},
   "source": [
    "# Statictics Handbook"
   ]
  },
  {
   "cell_type": "raw",
   "id": "e354147c",
   "metadata": {},
   "source": [
    "from IPython.display import Image\n",
    "Image(\"img/Mean_1.png\")\n",
    "Image(\"img/Mean_2.png\")\n",
    "Image(\"img/Mean_3.png\")\n",
    "Image(\"img/Variance_1.png\")\n",
    "Image(\"img/SD_1.png\")"
   ]
  },
  {
   "cell_type": "markdown",
   "id": "bbd7e169",
   "metadata": {},
   "source": [
    "### Random Variables\n",
    "Random variables denotes outcomes of random processes, such as flipping acoin or rolling a dice, to numbers.\n",
    "For instance, the outcome of the random process of flipping a coin can be rpresented by random variable `X` which takes a value `1` if theoutcome is\n",
    "heads and `0` if the outcome is tails.\n",
    "\n",
    "In this example, the possible outcomes are `{0,1}`. This set of all possible outcomes is called the **sample space** of the experiment. Each time the random process is repeated, it is referred to as an **event**. The chance or the likelihood of this event occurring with a particular outcome is called the **probability** of that event, `P(x)`.\n",
    "\n",
    "`Pr (𝑋 = heads) = 0.5` and `Pr (𝑋 = tails) = 0.5`\n",
    "<p style='text-align: right;'><a href=\"https://www.freecodecamp.org/news/statistics-for-data-scientce-machine-learning-and-ai-handbook/\">ref</a></p>\n"
   ]
  },
  {
   "cell_type": "code",
   "execution_count": 11,
   "id": "ee4242c9",
   "metadata": {
    "scrolled": true
   },
   "outputs": [
    {
     "name": "stdout",
     "output_type": "stream",
     "text": [
      "flipping coin...\n",
      "The outcome of event X is 1 and occure with a probaility, 0.5\n"
     ]
    }
   ],
   "source": [
    "import random\n",
    "sample_space = [0, 1] # 0 denotes tail and 1 denotes head\n",
    "\n",
    "print('flipping coin...')\n",
    "X = []\n",
    "X.append(random.choice(sample_space))\n",
    "\n",
    "P_x = len(X)/len(sample_space)\n",
    "print(f\"The outcome of event X is {X[0]} and occure with a probaility, {P_x}\")\n"
   ]
  },
  {
   "cell_type": "markdown",
   "id": "87d3cde3",
   "metadata": {},
   "source": [
    "### Mean\n",
    "The **population** is the set of all observations (individuals, objects, events, or procedures) and is usually very large and diverse. On the other hand, a **sample** is a subset of observations from the population that ideally is a <u>true representation</u> of the population.\n",
    "\n",
    "The **mean**, also known as the average, is a central value of a finite set of numbers.\n",
    "![title](img/Mean_1.png)\n",
    "where **N** is the number of observations or data points in the sample set or simply the **data frequency**. Then the sample mean defined by `μ`, which is very often used to approximate the **population mean**, can be expressed as follows:\n",
    "![title](img/Mean_2.png)\n",
    "The mean is also referred to as **expectation** which is often defined by `E()` or random variable with a bar on the top. For example, the expectation of random variables X and Y, that is `E(X)` and `E(Y)`, respectively, can be expressed as follows:\n",
    "![title](img/Mean_3.png)\n",
    "<p style='text-align: right;'><a href=\"https://www.freecodecamp.org/news/statistics-for-data-scientce-machine-learning-and-ai-handbook/\">ref</a></p>\n",
    "\n",
    "\n",
    "\n"
   ]
  },
  {
   "cell_type": "code",
   "execution_count": 12,
   "id": "7d130cb3",
   "metadata": {},
   "outputs": [
    {
     "name": "stdout",
     "output_type": "stream",
     "text": [
      "The mean is 3.75\n",
      "The mean with NAN is 3.75\n"
     ]
    }
   ],
   "source": [
    "import numpy as np\n",
    "import math\n",
    "x = np.array([1,3,5,6])\n",
    "mean_x = np.mean(x)\n",
    "print(f\"The mean is {mean_x}\")\n",
    "\n",
    "# in case the data contains NaN values\n",
    "x_nan = np.array([1,3,5,6, math.nan])\n",
    "mean_x_nan = np.nanmean(x_nan)\n",
    "print(f\"The mean with NAN is {mean_x_nan}\")"
   ]
  },
  {
   "cell_type": "markdown",
   "id": "af2b1f72",
   "metadata": {},
   "source": [
    "### Variance\n",
    "The **variance** measures how far the data points are spread out from the average value. It's equal to the sum of the squares of the differences between the data values and the average (the mean).\n",
    "\n",
    "<p style='text-align: right;'><a href=\"https://www.freecodecamp.org/news/statistics-for-data-scientce-machine-learning-and-ai-handbook/\">ref</a></p>\n",
    "\n",
    "<div>\n",
    "<img src=\"img/Variance_1.png\" alt=\"Variance\" style=\"width: 450px;\"/>\n",
    "</div>\n",
    "<p style='text-align: right;'><a href=\"https://www.google.com/url?sa=i&url=https%3A%2F%2Fyassineelkhal.medium.com%2Fvariance-and-standard-deviation-f4cc7e78b92&psig=AOvVaw0IWQqb_5OGHs5LrmR5_Rom&ust=1719356170116000&source=images&cd=vfe&opi=89978449&ved=2ahUKEwie9a7_qvWGAxXUk_0HHQnmDzsQjRx6BAgAEBU\">ref</a></p>\n"
   ]
  },
  {
   "cell_type": "code",
   "execution_count": 21,
   "id": "1cf6c020",
   "metadata": {},
   "outputs": [
    {
     "name": "stdout",
     "output_type": "stream",
     "text": [
      "The variance is 3.6875\n",
      "The variance with NAN and dof set to one is 4.916666666666667\n"
     ]
    }
   ],
   "source": [
    "x = np.array([1,3,5,6])\n",
    "variance_x = np.var(x)\n",
    "print(f\"The variance is {variance_x}\")\n",
    "\n",
    "x_nan = np.array([1,3,5,6, math.nan])\n",
    "variance_x_nan = np.nanvar(x_nan, ddof = 1)\n",
    "print(f\"The variance with NAN and dof set to one is {variance_x_nan}\")"
   ]
  },
  {
   "cell_type": "markdown",
   "id": "3e8232ce",
   "metadata": {},
   "source": [
    "**NB:** _To compute the population variance using Python, the var function from the __NumPy library__ is used. By default, this function calculates the __population variance__ by setting the `ddof` <u>(Delta Degrees of Freedom)</u> parameter to `0`. However,when dealing with samples and not the entire population, the `ddof` is typically set to `1` to get the __sample variance__._\n"
   ]
  },
  {
   "cell_type": "markdown",
   "id": "353fe834",
   "metadata": {},
   "source": [
    "### Standard Deviation\n",
    "\n",
    "**Standard deviation** is simply the square root of the variance and <u>measures the extent to which data varies from its mean</u>. The standard deviation defined by `sigma` can be expressed as follows:\n",
    "![title](img/SD_1.png)\n",
    "Standard deviation is often preferred over the variance because it has the same units as the data points, which it can be interpret more easily\n",
    "<p style='text-align: right;'><a href=\"https://www.freecodecamp.org/news/statistics-for-data-scientce-machine-learning-and-ai-handbook/\">ref</a></p>\n",
    "\n"
   ]
  },
  {
   "cell_type": "code",
   "execution_count": 23,
   "id": "306d9eeb",
   "metadata": {},
   "outputs": [
    {
     "name": "stdout",
     "output_type": "stream",
     "text": [
      "The SD is 1.920286436967152\n",
      "The SD with NAN and ddof set to one is 2.217355782608345\n"
     ]
    }
   ],
   "source": [
    "x = np.array([1,3,5,6])\n",
    "sd_x = np.std(x)\n",
    "print(f\"The SD is {sd_x}\")\n",
    "\n",
    "x_nan = np.array([1,3,5,6, math.nan])\n",
    "sd_x_nan = np.nanstd(x_nan, ddof = 1)\n",
    "print(f\"The SD with NAN and ddof set to one is {sd_x_nan}\")"
   ]
  },
  {
   "cell_type": "markdown",
   "id": "c15c0b83",
   "metadata": {},
   "source": [
    "__NB:__ _In statistics, a standard deviation (SD) of 2 means that 95% of scores in a data set fall within two standard deviations of the mean. This is also known as the empirical rule, or the `68-95-99.7 rule`, which states that:\n",
    "`68%` Of scores are within `one` standard deviation of the mean\n",
    "`95%` Of scores are within `two` standard deviations of the mean\n",
    "`99.7%` Of scores are within `three` standard deviations of the mean_\n",
    "\n",
    "<div>\n",
    "<img src=\"img/Variance_1.png\" alt=\"Drawing\" style=\"width: 450px;\"/>\n",
    "</div>"
   ]
  },
  {
   "cell_type": "code",
   "execution_count": null,
   "id": "35b92fd0",
   "metadata": {},
   "outputs": [],
   "source": []
  }
 ],
 "metadata": {
  "kernelspec": {
   "display_name": "Python 3 (ipykernel)",
   "language": "python",
   "name": "python3"
  },
  "language_info": {
   "codemirror_mode": {
    "name": "ipython",
    "version": 3
   },
   "file_extension": ".py",
   "mimetype": "text/x-python",
   "name": "python",
   "nbconvert_exporter": "python",
   "pygments_lexer": "ipython3",
   "version": "3.9.13"
  }
 },
 "nbformat": 4,
 "nbformat_minor": 5
}
